{
 "cells": [
  {
   "cell_type": "code",
   "id": "93f79293-4a10-4817-9c2a-e258c0f166d5",
   "metadata": {
    "ExecuteTime": {
     "end_time": "2025-04-27T09:12:44.977399Z",
     "start_time": "2025-04-27T09:12:44.078456Z"
    }
   },
   "source": [
    "# import libraries\n",
    "import pandas as pd\n",
    "import os"
   ],
   "outputs": [],
   "execution_count": 1
  },
  {
   "cell_type": "code",
   "id": "7428df70-54b7-45f3-b34a-46c9292acda0",
   "metadata": {
    "ExecuteTime": {
     "end_time": "2025-04-27T09:12:44.993637Z",
     "start_time": "2025-04-27T09:12:44.986350Z"
    }
   },
   "source": [
    "# load all datasets\n",
    "data_paths = {\n",
    "    \"experienced_sign\": \"experienced_sign.csv\",\n",
    "    \"goals\": \"goals.csv\",\n",
    "    \"head_hit_location\": \"head_hit_location.csv\",\n",
    "    \"immediate_symptoms_resulting\": \"immediate_symptoms_resulting.csv\",\n",
    "    \"incident_head_hit_location\": \"incident_head_hit_location.csv\",\n",
    "    \"new_resulting_factors\": \"new_resulting_factors_utf8.csv\",\n",
    "    \"nontbi_condition\": \"nontbi_condition.csv\",\n",
    "    \"patient_info\": \"patient_info.csv\",\n",
    "    \"patient_therapies\": \"patient_therapies.csv\",\n",
    "    \"patient_types\": \"patient_types.csv\",\n",
    "    \"register_tracking_list\": \"register_tracking_list.csv\",\n",
    "    \"registered_factors\": \"registered_factors.csv\",\n",
    "    \"registered_sdoh\": \"registered_sdoh.csv\",\n",
    "    \"session\": \"session.csv\",\n",
    "    \"symptom_details\": \"symptom_details.csv\",\n",
    "    \"symptom_list\": \"symptom_list.csv\",\n",
    "    \"tbi_from\": \"tbi_from.csv\",\n",
    "    \"tbi_incident\": \"tbi_incident.csv\",\n",
    "    \"therapies_list\": \"therapies_list.csv\",\n",
    "    \"tracking_list\": \"tracking_list.csv\",\n",
    "    \"user_info\": \"user_info.csv\"\n",
    "}"
   ],
   "outputs": [],
   "execution_count": 2
  },
  {
   "cell_type": "code",
   "id": "4de447ac-0713-4adc-8fb9-7a4457b04828",
   "metadata": {
    "ExecuteTime": {
     "end_time": "2025-04-27T09:12:45.346479Z",
     "start_time": "2025-04-27T09:12:45.326420Z"
    }
   },
   "source": [
    "# load all dataframes\n",
    "dataframes = {}\n",
    "for name, path in data_paths.items():\n",
    "    if os.path.exists(path):\n",
    "        try:\n",
    "            dataframes[name] = pd.read_csv(path, error_bad_lines=False, warn_bad_lines=True)\n",
    "        except Exception as e:\n",
    "            print(f\"Error reading {path}: {e}\")\n",
    "    else:\n",
    "        print(f\"Warning: File {path} not found.\")"
   ],
   "outputs": [
    {
     "name": "stdout",
     "output_type": "stream",
     "text": [
      "Warning: File experienced_sign.csv not found.\n",
      "Warning: File goals.csv not found.\n",
      "Warning: File head_hit_location.csv not found.\n",
      "Warning: File immediate_symptoms_resulting.csv not found.\n",
      "Warning: File incident_head_hit_location.csv not found.\n",
      "Warning: File new_resulting_factors_utf8.csv not found.\n",
      "Warning: File nontbi_condition.csv not found.\n",
      "Warning: File patient_info.csv not found.\n",
      "Warning: File patient_therapies.csv not found.\n",
      "Warning: File patient_types.csv not found.\n",
      "Warning: File register_tracking_list.csv not found.\n",
      "Warning: File registered_factors.csv not found.\n",
      "Warning: File registered_sdoh.csv not found.\n",
      "Warning: File session.csv not found.\n",
      "Warning: File symptom_details.csv not found.\n",
      "Warning: File symptom_list.csv not found.\n",
      "Warning: File tbi_from.csv not found.\n",
      "Warning: File tbi_incident.csv not found.\n",
      "Warning: File therapies_list.csv not found.\n",
      "Warning: File tracking_list.csv not found.\n",
      "Warning: File user_info.csv not found.\n"
     ]
    }
   ],
   "execution_count": 3
  },
  {
   "cell_type": "code",
   "id": "717a93b4-ab10-4b0a-b523-6f0e5d1b687d",
   "metadata": {
    "ExecuteTime": {
     "end_time": "2025-04-27T09:12:45.385095Z",
     "start_time": "2025-04-27T09:12:45.376453Z"
    }
   },
   "source": [
    "# initial inspection\n",
    "for name, df in dataframes.items():\n",
    "    if isinstance(df, pd.DataFrame):\n",
    "        print(f'{name}: shape = {df.shape}')\n",
    "        print(f'Columns: {list(df.columns)}\\n')"
   ],
   "outputs": [],
   "execution_count": 4
  },
  {
   "cell_type": "code",
   "id": "be935ee9-ee6d-42a9-8997-be0175880746",
   "metadata": {
    "ExecuteTime": {
     "end_time": "2025-04-27T09:12:45.429123Z",
     "start_time": "2025-04-27T09:12:45.407621Z"
    }
   },
   "source": [
    "def fill_missing(df):\n",
    "    for col in df.columns:\n",
    "        if df[col].dtype == 'object':\n",
    "            df[col] = df[col].fillna('Unknown')\n",
    "        else:\n",
    "            df[col] = df[col].fillna(-1)\n",
    "    return df\n",
    "\n",
    "for name in dataframes:\n",
    "    if isinstance(dataframes[name], pd.DataFrame):\n",
    "        dataframes[name] = fill_missing(dataframes[name])\n"
   ],
   "outputs": [],
   "execution_count": 5
  },
  {
   "cell_type": "code",
   "id": "a7e5e612-7a73-4d9a-b007-002c413b18b6",
   "metadata": {
    "ExecuteTime": {
     "end_time": "2025-04-27T09:12:45.464985Z",
     "start_time": "2025-04-27T09:12:45.455550Z"
    }
   },
   "source": [
    "# merge datasets\n",
    "merged_df = dataframes.get('patient_info')\n",
    "\n",
    "if merged_df is not None:\n",
    "    merge_candidates = [\n",
    "        ('patient_types', 'patient_id'),\n",
    "        ('patient_therapies', 'patient_id'),\n",
    "        ('tbi_incident', 'patient_id'),\n",
    "        ('new_resulting_factors', 'patient_id'),\n",
    "        ('nontbi_condition', 'patient_id')\n",
    "    ]\n",
    "\n",
    "    for table_name, key in merge_candidates:\n",
    "        if table_name in dataframes and key in dataframes[table_name].columns:\n",
    "            merged_df = merged_df.merge(dataframes[table_name], on=key, how='left')\n"
   ],
   "outputs": [],
   "execution_count": 6
  },
  {
   "cell_type": "code",
   "id": "7599e79b-dc13-43f8-915a-f4ec3cfdc529",
   "metadata": {
    "ExecuteTime": {
     "end_time": "2025-04-27T09:12:45.496036Z",
     "start_time": "2025-04-27T09:12:45.487103Z"
    }
   },
   "source": [
    "# merge user_infor if user_id exists\n",
    "if 'user_info' in dataframes and 'user_id' in merged_df.columns and 'user_id' in dataframes['user_info'].columns:\n",
    "    merged_df = merged_df.merge(dataframes['user_info'], on='user_id', how='left')"
   ],
   "outputs": [],
   "execution_count": 7
  },
  {
   "cell_type": "code",
   "id": "6dfb4578-371b-4f16-8f38-c1699d771197",
   "metadata": {
    "ExecuteTime": {
     "end_time": "2025-04-27T09:41:55.247580Z",
     "start_time": "2025-04-27T09:41:55.192914Z"
    }
   },
   "source": [
    "# final cleaning\n",
    "merged_df = merged_df.loc[:, ~merged_df.columns.duplicated()]"
   ],
   "outputs": [
    {
     "ename": "AttributeError",
     "evalue": "'NoneType' object has no attribute 'loc'",
     "output_type": "error",
     "traceback": [
      "\u001B[31m---------------------------------------------------------------------------\u001B[39m",
      "\u001B[31mAttributeError\u001B[39m                            Traceback (most recent call last)",
      "\u001B[36mCell\u001B[39m\u001B[36m \u001B[39m\u001B[32mIn[11]\u001B[39m\u001B[32m, line 2\u001B[39m\n\u001B[32m      1\u001B[39m \u001B[38;5;66;03m# final cleaning\u001B[39;00m\n\u001B[32m----> \u001B[39m\u001B[32m2\u001B[39m merged_df = \u001B[43mmerged_df\u001B[49m\u001B[43m.\u001B[49m\u001B[43mloc\u001B[49m[:, ~merged_df.columns.duplicated()]\n",
      "\u001B[31mAttributeError\u001B[39m: 'NoneType' object has no attribute 'loc'"
     ]
    }
   ],
   "execution_count": 11
  },
  {
   "cell_type": "code",
   "id": "74408397-5188-4a8d-9b67-5dc3a8fc306a",
   "metadata": {
    "ExecuteTime": {
     "end_time": "2025-04-27T09:40:53.631795Z",
     "start_time": "2025-04-27T09:40:53.581722Z"
    }
   },
   "source": [
    "# quick overview of final merged table\n",
    "print('final merged dataset shape:', merged_df.shape)\n",
    "print('columns:\\n', list(merged_df.columns))"
   ],
   "outputs": [
    {
     "ename": "AttributeError",
     "evalue": "'NoneType' object has no attribute 'shape'",
     "output_type": "error",
     "traceback": [
      "\u001B[31m---------------------------------------------------------------------------\u001B[39m",
      "\u001B[31mAttributeError\u001B[39m                            Traceback (most recent call last)",
      "\u001B[36mCell\u001B[39m\u001B[36m \u001B[39m\u001B[32mIn[10]\u001B[39m\u001B[32m, line 2\u001B[39m\n\u001B[32m      1\u001B[39m \u001B[38;5;66;03m# quick overview of final merged table\u001B[39;00m\n\u001B[32m----> \u001B[39m\u001B[32m2\u001B[39m \u001B[38;5;28mprint\u001B[39m(\u001B[33m'\u001B[39m\u001B[33mfinal merged dataset shape:\u001B[39m\u001B[33m'\u001B[39m, \u001B[43mmerged_df\u001B[49m\u001B[43m.\u001B[49m\u001B[43mshape\u001B[49m)\n\u001B[32m      3\u001B[39m \u001B[38;5;28mprint\u001B[39m(\u001B[33m'\u001B[39m\u001B[33mcolumns:\u001B[39m\u001B[38;5;130;01m\\n\u001B[39;00m\u001B[33m'\u001B[39m, \u001B[38;5;28mlist\u001B[39m(merged_df.columns))\n",
      "\u001B[31mAttributeError\u001B[39m: 'NoneType' object has no attribute 'shape'"
     ]
    }
   ],
   "execution_count": 10
  },
  {
   "cell_type": "code",
   "execution_count": 43,
   "id": "254331fa-cc30-4d36-afd0-0b7322a22356",
   "metadata": {},
   "outputs": [
    {
     "name": "stdout",
     "output_type": "stream",
     "text": [
      "                             patient_id first_name_x last_name_x  \\\n",
      "0  5c96ba1a-8b2d-49bc-8e8e-b07761948286       Robin       Lopez    \n",
      "1  eda39327-b38f-41de-a46a-8782787369b7       Justin       Macks   \n",
      "2  6a7f7ce9-f63e-4651-b941-a25ce116de74       sandra     kinstle   \n",
      "3  096d402a-5fcd-41dd-b59b-b3089cf06742         Jing          Gu   \n",
      "4  1715cc3c-bea6-4d7e-aad3-b2f96338ba60      Bootsie     Brenner   \n",
      "\n",
      "  date_of_birth_x gender_x patient_type external_id    patient_sub_type  id_x  \\\n",
      "0      1973-05-23   female    caregiver      Unkown              Unkown   NaN   \n",
      "1      1991-07-10     male    caregiver      Unkown              Unkown   NaN   \n",
      "2      1955-02-15   female    caregiver      Unkown              Unkown   NaN   \n",
      "3      1971-12-24     male       Stroke      Unkown  PreviousStrokeUser   NaN   \n",
      "4      1958-01-28   female       Stroke      Unkown  PreviousStrokeUser   NaN   \n",
      "\n",
      "  user_id  ...  country referral_group veteran ethnicity race city state  \\\n",
      "0     NaN  ...      NaN            NaN     NaN       NaN  NaN  NaN   NaN   \n",
      "1     NaN  ...      NaN            NaN     NaN       NaN  NaN  NaN   NaN   \n",
      "2     NaN  ...      NaN            NaN     NaN       NaN  NaN  NaN   NaN   \n",
      "3     NaN  ...      NaN            NaN     NaN       NaN  NaN  NaN   NaN   \n",
      "4     NaN  ...      NaN            NaN     NaN       NaN  NaN  NaN   NaN   \n",
      "\n",
      "  dark_mode  gender_y language_preference  \n",
      "0       NaN       NaN                 NaN  \n",
      "1       NaN       NaN                 NaN  \n",
      "2       NaN       NaN                 NaN  \n",
      "3       NaN       NaN                 NaN  \n",
      "4       NaN       NaN                 NaN  \n",
      "\n",
      "[5 rows x 42 columns]\n"
     ]
    }
   ],
   "source": [
    "# preview the first few rows\n",
    "if merged_df is not None:\n",
    "    print(merged_df.head())\n",
    "else:\n",
    "    print(\"Error: patient_info dataset not found.\")"
   ]
  },
  {
   "cell_type": "code",
   "execution_count": 45,
   "id": "e17219eb-cef9-42c1-9af4-0c5a5c7d3621",
   "metadata": {},
   "outputs": [],
   "source": [
    "# save the merged dataframe to a CSV file\n",
    "merged_df.to_csv('merged_patient_data.csv', index=False)"
   ]
  },
  {
   "cell_type": "code",
   "execution_count": null,
   "id": "ad07f3be-d12b-4779-8731-31b0782fac65",
   "metadata": {},
   "outputs": [],
   "source": []
  }
 ],
 "metadata": {
  "kernelspec": {
   "display_name": "Python 3 (ipykernel)",
   "language": "python",
   "name": "python3"
  },
  "language_info": {
   "codemirror_mode": {
    "name": "ipython",
    "version": 3
   },
   "file_extension": ".py",
   "mimetype": "text/x-python",
   "name": "python",
   "nbconvert_exporter": "python",
   "pygments_lexer": "ipython3",
   "version": "3.12.4"
  }
 },
 "nbformat": 4,
 "nbformat_minor": 5
}
